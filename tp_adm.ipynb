{
 "cells": [
  {
   "cell_type": "markdown",
   "id": "c8825909-28bb-4638-a7f3-329b46f2ea8b",
   "metadata": {
    "id": "c8825909-28bb-4638-a7f3-329b46f2ea8b"
   },
   "source": [
    "# Trabajo práctico Aprendizaje de Máquina - *NASA Exoplanet Archive*\n",
    "*Pablo Brahim - Kevin Pennington*"
   ]
  },
  {
   "cell_type": "markdown",
   "id": "e9218d16-cec9-4ca4-b838-137abef336dc",
   "metadata": {
    "id": "e9218d16-cec9-4ca4-b838-137abef336dc"
   },
   "source": [
    "## Introducción al conjunto de datos KOI Q1–Q17 DR 25\n",
    "\n",
    "---\n",
    "\n",
    "\n",
    "\n",
    "El conjunto de datos utilizado en este trabajo corresponde a la **tabla de objetos de interés Kepler (Kepler Object-of-Interest - KOI) del Data Release 25 (DR 25)**, disponible públicamente en el [NASA Exoplanet Archive](https://exoplanetarchive.ipac.caltech.edu/). Esta tabla contiene el resultado del análisis automatizado de curvas de luz obtenidas por el telescopio espacial **Kepler**, que tuvo como objetivo principal la detección de exoplanetas mediante el método de tránsito.\n",
    "\n",
    "Durante su misión, Kepler monitoreó de forma continua la luminosidad de más de 150,000 estrellas. Variaciones periódicas en el brillo de una estrella pueden indicar que un objeto (como un planeta) pasa frente a ella, generando una pequeña disminución en la intensidad observada. Estas señales, conocidas como **eventos de cruce de umbral** (*Threshold Crossing Events*, o TCEs), son clasificadas y evaluadas en busca de patrones consistentes con un tránsito planetario.\n",
    "\n",
    "En el DR 25, el análisis se realizó de forma completamente automatizada mediante un sistema denominado **Robovetter**, que aplica una serie de pruebas y métricas para determinar si una señal es **similar a un tránsito** (*transit-like*) o no. Aquellas consideradas transit-like reciben un número KOI y son sometidas a pruebas adicionales para descartar falsas detecciones, como eclipses estelares, errores instrumentales o señales contaminadas por objetos cercanos.\n",
    "\n",
    "Cada KOI es finalmente etiquetado con una **disposición** (*disposition*), que puede ser:\n",
    "- **PC** (*Planet Candidate*): candidato a planeta.\n",
    "- **FP** (*False Positive*): falso positivo.\n",
    "- (implícitamente) **Not transit-like**: señales que no fueron promovidas a KOI por no parecerse a un tránsito.\n",
    "\n",
    "Adicionalmente, se incluye un parámetro llamado **Disposition Score**, un valor entre 0 y 1 que refleja el nivel de confianza del sistema en la disposición asignada. Valores cercanos a 1 indican alta confianza en que se trata de un planeta candidato, mientras que valores cercanos a 0 reflejan alta confianza en que es un falso positivo.\n",
    "\n",
    "Es importante destacar que este catálogo fue construido con fines estadísticos y de uniformidad para estudios de tasa de ocurrencia planetaria. Por ello, algunas disposiciones pueden diferir de catálogos anteriores más conservadores, priorizándose en este caso la **confiabilidad global del conjunto por sobre la revisión manual individual de cada sistema**.\n",
    "\n",
    "Este dataset incluye parámetros orbitales, características de la curva de luz, y propiedades estimadas de la estrella anfitriona y del posible planeta, calculados principalmente mediante métodos de ajuste como el muestreo Monte Carlo de cadenas de Markov (MCMC).\n"
   ]
  },
  {
   "cell_type": "code",
   "execution_count": 1,
   "id": "7DLPCuSrdc_s",
   "metadata": {
    "colab": {
     "base_uri": "https://localhost:8080/",
     "height": 74
    },
    "id": "7DLPCuSrdc_s",
    "outputId": "86d38a67-f0fd-4386-c92e-ff68d3e23cd7"
   },
   "outputs": [
    {
     "ename": "ModuleNotFoundError",
     "evalue": "No module named 'google'",
     "output_type": "error",
     "traceback": [
      "\u001b[0;31m---------------------------------------------------------------------------\u001b[0m",
      "\u001b[0;31mModuleNotFoundError\u001b[0m                       Traceback (most recent call last)",
      "Cell \u001b[0;32mIn[1], line 1\u001b[0m\n\u001b[0;32m----> 1\u001b[0m \u001b[38;5;28;01mfrom\u001b[39;00m \u001b[38;5;21;01mgoogle\u001b[39;00m\u001b[38;5;21;01m.\u001b[39;00m\u001b[38;5;21;01mcolab\u001b[39;00m \u001b[38;5;28;01mimport\u001b[39;00m files\n\u001b[1;32m      3\u001b[0m uploaded \u001b[38;5;241m=\u001b[39m files\u001b[38;5;241m.\u001b[39mupload()\n",
      "\u001b[0;31mModuleNotFoundError\u001b[0m: No module named 'google'"
     ]
    }
   ],
   "source": [
    "from google.colab import files\n",
    "\n",
    "uploaded = files.upload()"
   ]
  },
  {
   "cell_type": "code",
   "execution_count": 16,
   "id": "067d180a-dddd-41a6-8ece-68548c402768",
   "metadata": {
    "id": "067d180a-dddd-41a6-8ece-68548c402768"
   },
   "outputs": [],
   "source": [
    "import matplotlib.pyplot as plt\n",
    "import numpy as np\n",
    "import pandas as pd\n",
    "import seaborn as sns"
   ]
  },
  {
   "cell_type": "code",
   "execution_count": 74,
   "id": "aa33b015-9997-4c50-87c1-84fae491c4a0",
   "metadata": {
    "colab": {
     "base_uri": "https://localhost:8080/",
     "height": 273
    },
    "id": "aa33b015-9997-4c50-87c1-84fae491c4a0",
    "outputId": "4edcf510-3edf-458c-aebb-bbc0c0b0c76c"
   },
   "outputs": [
    {
     "data": {
      "text/html": [
       "<div>\n",
       "<style scoped>\n",
       "    .dataframe tbody tr th:only-of-type {\n",
       "        vertical-align: middle;\n",
       "    }\n",
       "\n",
       "    .dataframe tbody tr th {\n",
       "        vertical-align: top;\n",
       "    }\n",
       "\n",
       "    .dataframe thead th {\n",
       "        text-align: right;\n",
       "    }\n",
       "</style>\n",
       "<table border=\"1\" class=\"dataframe\">\n",
       "  <thead>\n",
       "    <tr style=\"text-align: right;\">\n",
       "      <th></th>\n",
       "      <th>kepid</th>\n",
       "      <th>kepoi_name</th>\n",
       "      <th>kepler_name</th>\n",
       "      <th>koi_disposition</th>\n",
       "      <th>koi_pdisposition</th>\n",
       "      <th>koi_score</th>\n",
       "      <th>koi_fpflag_nt</th>\n",
       "      <th>koi_fpflag_ss</th>\n",
       "      <th>koi_fpflag_co</th>\n",
       "      <th>koi_fpflag_ec</th>\n",
       "      <th>...</th>\n",
       "      <th>koi_steff_err2</th>\n",
       "      <th>koi_slogg</th>\n",
       "      <th>koi_slogg_err1</th>\n",
       "      <th>koi_slogg_err2</th>\n",
       "      <th>koi_srad</th>\n",
       "      <th>koi_srad_err1</th>\n",
       "      <th>koi_srad_err2</th>\n",
       "      <th>ra</th>\n",
       "      <th>dec</th>\n",
       "      <th>koi_kepmag</th>\n",
       "    </tr>\n",
       "  </thead>\n",
       "  <tbody>\n",
       "    <tr>\n",
       "      <th>0</th>\n",
       "      <td>11446443</td>\n",
       "      <td>K00001.01</td>\n",
       "      <td>Kepler-1 b</td>\n",
       "      <td>CONFIRMED</td>\n",
       "      <td>CANDIDATE</td>\n",
       "      <td>0.811</td>\n",
       "      <td>0</td>\n",
       "      <td>0</td>\n",
       "      <td>0</td>\n",
       "      <td>0</td>\n",
       "      <td>...</td>\n",
       "      <td>-78.0</td>\n",
       "      <td>4.457</td>\n",
       "      <td>0.024</td>\n",
       "      <td>-0.024</td>\n",
       "      <td>0.964</td>\n",
       "      <td>0.038</td>\n",
       "      <td>-0.038</td>\n",
       "      <td>286.80847</td>\n",
       "      <td>49.316399</td>\n",
       "      <td>11.338</td>\n",
       "    </tr>\n",
       "    <tr>\n",
       "      <th>1</th>\n",
       "      <td>10666592</td>\n",
       "      <td>K00002.01</td>\n",
       "      <td>Kepler-2 b</td>\n",
       "      <td>CONFIRMED</td>\n",
       "      <td>CANDIDATE</td>\n",
       "      <td>1.000</td>\n",
       "      <td>0</td>\n",
       "      <td>1</td>\n",
       "      <td>0</td>\n",
       "      <td>0</td>\n",
       "      <td>...</td>\n",
       "      <td>-89.0</td>\n",
       "      <td>4.019</td>\n",
       "      <td>0.033</td>\n",
       "      <td>-0.027</td>\n",
       "      <td>1.952</td>\n",
       "      <td>0.099</td>\n",
       "      <td>-0.110</td>\n",
       "      <td>292.24728</td>\n",
       "      <td>47.969521</td>\n",
       "      <td>10.463</td>\n",
       "    </tr>\n",
       "    <tr>\n",
       "      <th>2</th>\n",
       "      <td>10748390</td>\n",
       "      <td>K00003.01</td>\n",
       "      <td>Kepler-3 b</td>\n",
       "      <td>CONFIRMED</td>\n",
       "      <td>CANDIDATE</td>\n",
       "      <td>0.913</td>\n",
       "      <td>0</td>\n",
       "      <td>0</td>\n",
       "      <td>0</td>\n",
       "      <td>0</td>\n",
       "      <td>...</td>\n",
       "      <td>-95.0</td>\n",
       "      <td>4.591</td>\n",
       "      <td>0.015</td>\n",
       "      <td>-0.036</td>\n",
       "      <td>0.763</td>\n",
       "      <td>0.028</td>\n",
       "      <td>-0.028</td>\n",
       "      <td>297.70935</td>\n",
       "      <td>48.080853</td>\n",
       "      <td>9.174</td>\n",
       "    </tr>\n",
       "    <tr>\n",
       "      <th>3</th>\n",
       "      <td>3861595</td>\n",
       "      <td>K00004.01</td>\n",
       "      <td>Kepler-1658 b</td>\n",
       "      <td>CONFIRMED</td>\n",
       "      <td>CANDIDATE</td>\n",
       "      <td>1.000</td>\n",
       "      <td>0</td>\n",
       "      <td>1</td>\n",
       "      <td>0</td>\n",
       "      <td>0</td>\n",
       "      <td>...</td>\n",
       "      <td>-114.0</td>\n",
       "      <td>3.657</td>\n",
       "      <td>0.270</td>\n",
       "      <td>-0.090</td>\n",
       "      <td>2.992</td>\n",
       "      <td>0.416</td>\n",
       "      <td>-0.971</td>\n",
       "      <td>294.35654</td>\n",
       "      <td>38.947380</td>\n",
       "      <td>11.432</td>\n",
       "    </tr>\n",
       "    <tr>\n",
       "      <th>4</th>\n",
       "      <td>8554498</td>\n",
       "      <td>K00005.01</td>\n",
       "      <td>NaN</td>\n",
       "      <td>CANDIDATE</td>\n",
       "      <td>CANDIDATE</td>\n",
       "      <td>1.000</td>\n",
       "      <td>0</td>\n",
       "      <td>0</td>\n",
       "      <td>0</td>\n",
       "      <td>0</td>\n",
       "      <td>...</td>\n",
       "      <td>-65.0</td>\n",
       "      <td>4.012</td>\n",
       "      <td>0.030</td>\n",
       "      <td>-0.030</td>\n",
       "      <td>1.787</td>\n",
       "      <td>0.132</td>\n",
       "      <td>-0.076</td>\n",
       "      <td>289.73972</td>\n",
       "      <td>44.647419</td>\n",
       "      <td>11.665</td>\n",
       "    </tr>\n",
       "  </tbody>\n",
       "</table>\n",
       "<p>5 rows × 49 columns</p>\n",
       "</div>"
      ],
      "text/plain": [
       "      kepid kepoi_name    kepler_name koi_disposition koi_pdisposition  \\\n",
       "0  11446443  K00001.01     Kepler-1 b       CONFIRMED        CANDIDATE   \n",
       "1  10666592  K00002.01     Kepler-2 b       CONFIRMED        CANDIDATE   \n",
       "2  10748390  K00003.01     Kepler-3 b       CONFIRMED        CANDIDATE   \n",
       "3   3861595  K00004.01  Kepler-1658 b       CONFIRMED        CANDIDATE   \n",
       "4   8554498  K00005.01            NaN       CANDIDATE        CANDIDATE   \n",
       "\n",
       "   koi_score  koi_fpflag_nt  koi_fpflag_ss  koi_fpflag_co  koi_fpflag_ec  ...  \\\n",
       "0      0.811              0              0              0              0  ...   \n",
       "1      1.000              0              1              0              0  ...   \n",
       "2      0.913              0              0              0              0  ...   \n",
       "3      1.000              0              1              0              0  ...   \n",
       "4      1.000              0              0              0              0  ...   \n",
       "\n",
       "   koi_steff_err2  koi_slogg  koi_slogg_err1  koi_slogg_err2  koi_srad  \\\n",
       "0           -78.0      4.457           0.024          -0.024     0.964   \n",
       "1           -89.0      4.019           0.033          -0.027     1.952   \n",
       "2           -95.0      4.591           0.015          -0.036     0.763   \n",
       "3          -114.0      3.657           0.270          -0.090     2.992   \n",
       "4           -65.0      4.012           0.030          -0.030     1.787   \n",
       "\n",
       "   koi_srad_err1  koi_srad_err2         ra        dec  koi_kepmag  \n",
       "0          0.038         -0.038  286.80847  49.316399      11.338  \n",
       "1          0.099         -0.110  292.24728  47.969521      10.463  \n",
       "2          0.028         -0.028  297.70935  48.080853       9.174  \n",
       "3          0.416         -0.971  294.35654  38.947380      11.432  \n",
       "4          0.132         -0.076  289.73972  44.647419      11.665  \n",
       "\n",
       "[5 rows x 49 columns]"
      ]
     },
     "execution_count": 74,
     "metadata": {},
     "output_type": "execute_result"
    }
   ],
   "source": [
    "df = pd.read_csv(\"dr25.tab\", sep=\"\\t\", header=53)\n",
    "df.head()"
   ]
  },
  {
   "cell_type": "markdown",
   "id": "868d42c2-dc9c-4366-984a-fa2f7a0e3d6a",
   "metadata": {
    "id": "868d42c2-dc9c-4366-984a-fa2f7a0e3d6a"
   },
   "source": [
    "## Planteo del problema"
   ]
  },
  {
   "cell_type": "markdown",
   "id": "28e8544e-9bcc-4a0d-8c80-87c4309e1797",
   "metadata": {
    "id": "28e8544e-9bcc-4a0d-8c80-87c4309e1797"
   },
   "source": [
    "En este trabajo vamos a plantear un problema de clasidicacion binaria: dados los atributos del KOI, buscamos predecir si se trata\n",
    "de un candidato `CONFIRMED` o un `FALSE POSITIVE`.  En este aspecto destacan dos columnas `koi_disposition` y `koi_pdisposition`.\n",
    "En la [documentación](https://exoplanetarchive.ipac.caltech.edu/applications/DocSet/index.html?doctree=/docs/docmenu.xml&startdoc=item_1_01) puede hallarse un detalle de cada columna.\n",
    "\n",
    "La columna `koi_pdisposition` se trata de la disposicion\n",
    "\n",
    "    \"The pipeline flag that designates the most probable physical explanation of the KOI.\"\n",
    "la fuente de esta clasificacion es automaticamente asignada por el Kepler pipeline, basado en alguna pruebas internas.\n",
    "\n",
    "Mientras que `koi_disposition`\n",
    "        \n",
    "    \"The category of this KOI from the Exoplanet Archive.\"\n",
    "es el veredicto final de *NASA Exoplanet Archive*, que incluye revisiones manuales y estudios posteriores.\n",
    "Representa la verdad autoritativa sobre el *label*. Esta categoria suele cambiar con el tiempo y los estudios."
   ]
  },
  {
   "cell_type": "markdown",
   "id": "ce6ace47-f84c-4ae3-858f-05af7db25b45",
   "metadata": {
    "id": "ce6ace47-f84c-4ae3-858f-05af7db25b45"
   },
   "source": [
    "Por tal motivo, el valor que buscamos predecir es el de la *disposición final* del *KOI*: `koi_disposition`"
   ]
  },
  {
   "cell_type": "markdown",
   "id": "d8a965c5-8d6a-480a-8f1f-1cf187d950f9",
   "metadata": {
    "id": "d8a965c5-8d6a-480a-8f1f-1cf187d950f9"
   },
   "source": [
    "## EDA"
   ]
  },
  {
   "cell_type": "markdown",
   "id": "0b4b6927-e835-4e43-aeea-c3095f9632cd",
   "metadata": {},
   "source": [
    "### Target"
   ]
  },
  {
   "cell_type": "markdown",
   "id": "49482665-6cbf-439e-b6cf-a5be65c5b3a3",
   "metadata": {
    "id": "49482665-6cbf-439e-b6cf-a5be65c5b3a3"
   },
   "source": [
    "Comenzamos por analizar la variable *target*, vemos que toma tres valores en este dataset:\n",
    "`FALSE POSITIVE`, `CONFIRMED` y `CANDIDATE`.\n",
    "No buscamos clasificar a `CANDIDATE` y, dada la naturaleza ambigua de este valor (se trata de objetos que aun no tienen veredicto final), es posible que sea necesario eliminar esas filas."
   ]
  },
  {
   "cell_type": "code",
   "execution_count": 75,
   "id": "be1fcf0b-0def-41cb-b4db-55c2fd323b4d",
   "metadata": {
    "colab": {
     "base_uri": "https://localhost:8080/",
     "height": 178
    },
    "id": "be1fcf0b-0def-41cb-b4db-55c2fd323b4d",
    "outputId": "c267a663-b4d8-4f3c-cbe1-131879a6e6ae"
   },
   "outputs": [
    {
     "data": {
      "text/plain": [
       "koi_disposition\n",
       "FALSE POSITIVE    3966\n",
       "CONFIRMED         2728\n",
       "CANDIDATE         1360\n",
       "Name: count, dtype: int64"
      ]
     },
     "execution_count": 75,
     "metadata": {},
     "output_type": "execute_result"
    }
   ],
   "source": [
    "df.koi_disposition.value_counts()"
   ]
  },
  {
   "cell_type": "markdown",
   "id": "09616b94-28e4-4d8c-8423-2244f91aef1f",
   "metadata": {
    "id": "09616b94-28e4-4d8c-8423-2244f91aef1f"
   },
   "source": [
    "Dado que existe un gran numero de `CANDIDATE`s seria bueno intentar inputar algunos casos con los labels a predecir,\n",
    "para intentar no dañar mucho el dataset.\n",
    "\n",
    "Existe una variable `koi_score` que expresa la confianza en la clasificacion en el pipeline:\n",
    "        \n",
    "    A value between 0 and 1 that indicates the confidence in the KOI disposition.\n",
    "    For CANDIDATEs, a higher value indicates more confidence in its disposition,\n",
    "    while for FALSE POSITIVEs, a higher value indicates less confidence in that disposition.\n",
    "\n",
    "Esto no es una regla rigida, por lo que simplemente clasificar todos los `CANDIDATE` con puntaje alto a `CONFIRMED` y los `FALSE POSITIVE` de puntaje alto como `FALSE POSITIVE` puede ser contra producente.\n",
    "\n",
    "Además podemos mirar como se relaciona la variable `koi_pdisposition` con el target"
   ]
  },
  {
   "cell_type": "code",
   "execution_count": 76,
   "id": "5ac28406-072c-4f6b-a4ff-fc8c8bf91892",
   "metadata": {
    "colab": {
     "base_uri": "https://localhost:8080/",
     "height": 472
    },
    "id": "5ac28406-072c-4f6b-a4ff-fc8c8bf91892",
    "outputId": "c9268d7d-9e89-4253-fddb-f1756fbc6e8f"
   },
   "outputs": [
    {
     "data": {
      "image/png": "[encoded data removed]",
      "text/plain": [
       "<Figure size 640x480 with 2 Axes>"
      ]
     },
     "metadata": {},
     "output_type": "display_data"
    }
   ],
   "source": [
    "disposition_counts = pd.crosstab(\n",
    "    df['koi_pdisposition'],\n",
    "    df['koi_disposition'],\n",
    "    margins=True,\n",
    "    margins_name=\"Total\"\n",
    ")\n",
    "sns.heatmap(\n",
    "    pd.crosstab(df['koi_pdisposition'], df['koi_disposition']),\n",
    "    annot=True, fmt='d', cmap='mako'\n",
    ")\n",
    "plt.title(\"Cambios en KOI Disposition\")\n",
    "plt.show()\n"
   ]
  },
  {
   "cell_type": "markdown",
   "id": "9c49896d-e033-449b-8dfe-410412cdeaed",
   "metadata": {
    "id": "9c49896d-e033-449b-8dfe-410412cdeaed"
   },
   "source": [
    "Algunas conclusiones pueden sacarse en base a esta relacion:\n",
    "    \n",
    "* Es muy poco probable que un `FALSE POSITIVE` pase a confirmado `55/4020`\n",
    "* o, equivalentemente, los casos `CONFIRMED` en la disposición final provienen de `CANDIDATOS` de la pipeline.\n",
    "* reciprocamente, es extremadamente poco probable (1 solo caso) que un candidato de la pipeline, resulte `FALSO POSITIVO` (caveat: de aquellos que cambiaron de estado)\n",
    "\n",
    "Podemos tomar esto para la inputacion de los `CANDIDATE` en el target, si además nos valemos del `koi_score`.\n",
    "Podemos promover `CANDIDATE` a `CONFIRMED` cuando superen cierto umbral del score.\n",
    "\n",
    "Miramos la distribucion `koi_score`"
   ]
  },
  {
   "cell_type": "code",
   "execution_count": 77,
   "id": "6b5c7e68-1c16-4bd8-9e41-b2bf37b8980c",
   "metadata": {
    "colab": {
     "base_uri": "https://localhost:8080/",
     "height": 406
    },
    "id": "6b5c7e68-1c16-4bd8-9e41-b2bf37b8980c",
    "outputId": "79dd8a89-4a2c-432a-c04c-bcf4d04c835a"
   },
   "outputs": [
    {
     "data": {
      "text/plain": [
       "<Axes: xlabel='koi_score', ylabel='Count'>"
      ]
     },
     "execution_count": 77,
     "metadata": {},
     "output_type": "execute_result"
    },
    {
     "data": {
      "image/png": "[encoded data removed]",
      "text/plain": [
       "<Figure size 1400x400 with 3 Axes>"
      ]
     },
     "metadata": {},
     "output_type": "display_data"
    }
   ],
   "source": [
    "fig, axes = plt.subplots(1, 3, figsize=(14, 4))\n",
    "sns.histplot(data=df, x='koi_score', bins=24, ax=axes[0])\n",
    "sns.histplot(data=df, x='koi_score', bins=24, hue='koi_disposition', ax=axes[1], palette='Set2')\n",
    "sns.histplot(\n",
    "    data=df[(df[\"koi_score\"] > 0.1) & (df[\"koi_score\"] < 0.9)],\n",
    "    x='koi_score',\n",
    "    bins=24,\n",
    "    hue='koi_disposition',\n",
    "    ax=axes[2],\n",
    "    palette='Set2',\n",
    "    kde=True\n",
    ")"
   ]
  },
  {
   "cell_type": "markdown",
   "id": "fdc4442e-18ad-4548-bea0-ae43cd58f0c9",
   "metadata": {
    "id": "fdc4442e-18ad-4548-bea0-ae43cd58f0c9"
   },
   "source": [
    "En el ultimo histograma se muestra la distribucion del score, separada por la disposición final otrogada al KOI.\n",
    "Los `FALSE POSITIVE` provienen generalmente de la parte inferior de la distribución.\n",
    "Los `CONFIRMED` en su mayoría eran candidatos con alto score.\n",
    "La distribución para candidatos esta fuertemente sesgada hacia la derecha.\n",
    "Esto no es nada nuevo, simplemente es una visualización de la **definición** del KOI score\n"
   ]
  },
  {
   "cell_type": "markdown",
   "id": "d796da45-1200-4fe6-ab48-ec3c98a06320",
   "metadata": {
    "id": "d796da45-1200-4fe6-ab48-ec3c98a06320"
   },
   "source": [
    "La elección del umbral tiene dos implicaciones principalmente.\n",
    "Un threshold muy bajo, aporta poco 'ruido' al label (casos que son flageados como confirmados que podrian no serlo),\n",
    "pero quedan muchos casos sin imputar que deben ser removidos.\n",
    "Un threshold más alto reenokaza mas casos pero puede flaguear falsos confirmados.\n",
    "Esto es dificil definirlo *a priori*, y podía ser evaluado con el modelo, usando distintos threshold.\n",
    "Por ahora, observamos si el umbral de confianza se ubica por encima de 0.99 la mayoria de los datos son imputados"
   ]
  },
  {
   "cell_type": "code",
   "execution_count": 78,
   "id": "c290a9bc-af3d-4091-b902-e7c9544f070f",
   "metadata": {
    "colab": {
     "base_uri": "https://localhost:8080/",
     "height": 467
    },
    "id": "c290a9bc-af3d-4091-b902-e7c9544f070f",
    "outputId": "8ca8d246-7f77-475d-a479-c8d476fcdb11"
   },
   "outputs": [
    {
     "data": {
      "text/plain": [
       "<Axes: xlabel='label', ylabel='count'>"
      ]
     },
     "execution_count": 78,
     "metadata": {},
     "output_type": "execute_result"
    },
    {
     "data": {
      "image/png": "[encoded data removed]",
      "text/plain": [
       "<Figure size 640x480 with 1 Axes>"
      ]
     },
     "metadata": {},
     "output_type": "display_data"
    }
   ],
   "source": [
    "high_confidence_threshold = 0.99\n",
    "label_map = {'CONFIRMED': 1, 'FALSE POSITIVE': 0}\n",
    "df_binary = df[df['koi_disposition'].isin(['CONFIRMED', 'FALSE POSITIVE'])].copy()\n",
    "df_binary['label'] = df_binary['koi_disposition'].map(label_map)\n",
    "\n",
    "candidates = df[df['koi_disposition'] == 'CANDIDATE'].copy()\n",
    "pseudo_confirmed = candidates[candidates['koi_score'] >= high_confidence_threshold].copy()\n",
    "pseudo_confirmed['label'] = 1\n",
    "\n",
    "df_augmented = pd.concat([df_binary, pseudo_confirmed], ignore_index=True)\n",
    "df_augmented.label.value_counts()\n",
    "sns.countplot(data=df_augmented, x='label', hue='label', palette=\"Set2\")"
   ]
  },
  {
   "cell_type": "markdown",
   "id": "5a3f5f03-83d9-48fc-b594-6480693b2254",
   "metadata": {
    "id": "5a3f5f03-83d9-48fc-b594-6480693b2254"
   },
   "source": [
    "Como *bonus* se produce un balanceo de clases"
   ]
  },
  {
   "cell_type": "markdown",
   "id": "e5080860-2891-4f79-b76b-34a5fbf3f83d",
   "metadata": {},
   "source": [
    "### Otras variables\n"
   ]
  },
  {
   "cell_type": "code",
   "execution_count": 80,
   "id": "2c8ca19c-1014-44bd-b2c2-200366dc903e",
   "metadata": {},
   "outputs": [
    {
     "name": "stdout",
     "output_type": "stream",
     "text": [
      "<class 'pandas.core.frame.DataFrame'>\n",
      "RangeIndex: 8054 entries, 0 to 8053\n",
      "Data columns (total 49 columns):\n",
      " #   Column             Non-Null Count  Dtype  \n",
      "---  ------             --------------  -----  \n",
      " 0   kepid              8054 non-null   int64  \n",
      " 1   kepoi_name         8054 non-null   object \n",
      " 2   kepler_name        2730 non-null   object \n",
      " 3   koi_disposition    8054 non-null   object \n",
      " 4   koi_pdisposition   8054 non-null   object \n",
      " 5   koi_score          8054 non-null   float64\n",
      " 6   koi_fpflag_nt      8054 non-null   int64  \n",
      " 7   koi_fpflag_ss      8054 non-null   int64  \n",
      " 8   koi_fpflag_co      8054 non-null   int64  \n",
      " 9   koi_fpflag_ec      8054 non-null   int64  \n",
      " 10  koi_period         8054 non-null   float64\n",
      " 11  koi_period_err1    7904 non-null   float64\n",
      " 12  koi_period_err2    7904 non-null   float64\n",
      " 13  koi_time0bk        8054 non-null   float64\n",
      " 14  koi_time0bk_err1   7904 non-null   float64\n",
      " 15  koi_time0bk_err2   7904 non-null   float64\n",
      " 16  koi_impact         7995 non-null   float64\n",
      " 17  koi_impact_err1    7904 non-null   float64\n",
      " 18  koi_impact_err2    7904 non-null   float64\n",
      " 19  koi_duration       8054 non-null   float64\n",
      " 20  koi_duration_err1  7904 non-null   float64\n",
      " 21  koi_duration_err2  7904 non-null   float64\n",
      " 22  koi_depth          7995 non-null   float64\n",
      " 23  koi_depth_err1     7904 non-null   float64\n",
      " 24  koi_depth_err2     7904 non-null   float64\n",
      " 25  koi_prad           7995 non-null   float64\n",
      " 26  koi_prad_err1      7995 non-null   float64\n",
      " 27  koi_prad_err2      7995 non-null   float64\n",
      " 28  koi_teq            7995 non-null   float64\n",
      " 29  koi_teq_err1       0 non-null      float64\n",
      " 30  koi_teq_err2       0 non-null      float64\n",
      " 31  koi_insol          7995 non-null   float64\n",
      " 32  koi_insol_err1     7995 non-null   float64\n",
      " 33  koi_insol_err2     7995 non-null   float64\n",
      " 34  koi_model_snr      7995 non-null   float64\n",
      " 35  koi_tce_plnt_num   8054 non-null   int64  \n",
      " 36  koi_tce_delivname  8054 non-null   object \n",
      " 37  koi_steff          7995 non-null   float64\n",
      " 38  koi_steff_err1     7907 non-null   float64\n",
      " 39  koi_steff_err2     7892 non-null   float64\n",
      " 40  koi_slogg          7995 non-null   float64\n",
      " 41  koi_slogg_err1     7907 non-null   float64\n",
      " 42  koi_slogg_err2     7907 non-null   float64\n",
      " 43  koi_srad           7995 non-null   float64\n",
      " 44  koi_srad_err1      7907 non-null   float64\n",
      " 45  koi_srad_err2      7907 non-null   float64\n",
      " 46  ra                 8054 non-null   float64\n",
      " 47  dec                8054 non-null   float64\n",
      " 48  koi_kepmag         8053 non-null   float64\n",
      "dtypes: float64(38), int64(6), object(5)\n",
      "memory usage: 3.0+ MB\n"
     ]
    }
   ],
   "source": [
    "df.info()"
   ]
  },
  {
   "cell_type": "markdown",
   "id": "fa27e9a9-0077-4fe9-884d-79c0f76ec932",
   "metadata": {},
   "source": [
    "Observamos que hay un gran número de columnas. Muchas de estas variables deben ser dropeadas antes de entrenar el algoritmo.\n",
    "\n",
    "Algunas como `koi_disposition`, `koi_pdisposition` y `koi_score` por estar directamente relacionadas con el target y como lo armamos.\n",
    "Otras, las consideramos irrelevantes para el modelo por no aportar información *fisica* como las coordenadas celestes del objeto.\n",
    "Además, a menos que sea necesario luego, dropearemos las columnas que representan errores de ciertas magnitudes y nos quedaremos\n",
    "con los features que representan el valor medio de dicha magnitud.\n",
    "\n",
    "Ids y nombres tambien se dropean."
   ]
  },
  {
   "cell_type": "code",
   "execution_count": 81,
   "id": "1cVdQi1rbKOD",
   "metadata": {
    "colab": {
     "base_uri": "https://localhost:8080/",
     "height": 206
    },
    "id": "1cVdQi1rbKOD",
    "outputId": "92366cf8-4ff1-4683-e6b7-87ded442e008"
   },
   "outputs": [
    {
     "data": {
      "text/html": [
       "<div>\n",
       "<style scoped>\n",
       "    .dataframe tbody tr th:only-of-type {\n",
       "        vertical-align: middle;\n",
       "    }\n",
       "\n",
       "    .dataframe tbody tr th {\n",
       "        vertical-align: top;\n",
       "    }\n",
       "\n",
       "    .dataframe thead th {\n",
       "        text-align: right;\n",
       "    }\n",
       "</style>\n",
       "<table border=\"1\" class=\"dataframe\">\n",
       "  <thead>\n",
       "    <tr style=\"text-align: right;\">\n",
       "      <th></th>\n",
       "      <th>koi_fpflag_nt</th>\n",
       "      <th>koi_fpflag_ss</th>\n",
       "      <th>koi_fpflag_co</th>\n",
       "      <th>koi_fpflag_ec</th>\n",
       "      <th>koi_period</th>\n",
       "      <th>koi_impact</th>\n",
       "      <th>koi_duration</th>\n",
       "      <th>koi_depth</th>\n",
       "      <th>koi_prad</th>\n",
       "      <th>koi_teq</th>\n",
       "      <th>koi_insol</th>\n",
       "      <th>koi_model_snr</th>\n",
       "      <th>koi_steff</th>\n",
       "      <th>koi_slogg</th>\n",
       "      <th>koi_srad</th>\n",
       "      <th>koi_kepmag</th>\n",
       "      <th>label</th>\n",
       "    </tr>\n",
       "  </thead>\n",
       "  <tbody>\n",
       "    <tr>\n",
       "      <th>0</th>\n",
       "      <td>0</td>\n",
       "      <td>0</td>\n",
       "      <td>0</td>\n",
       "      <td>0</td>\n",
       "      <td>2.470613</td>\n",
       "      <td>0.818</td>\n",
       "      <td>1.74319</td>\n",
       "      <td>14230.9</td>\n",
       "      <td>13.04</td>\n",
       "      <td>1339.0</td>\n",
       "      <td>761.46</td>\n",
       "      <td>4304.3</td>\n",
       "      <td>5820.0</td>\n",
       "      <td>4.457</td>\n",
       "      <td>0.964</td>\n",
       "      <td>11.338</td>\n",
       "      <td>1</td>\n",
       "    </tr>\n",
       "    <tr>\n",
       "      <th>1</th>\n",
       "      <td>0</td>\n",
       "      <td>1</td>\n",
       "      <td>0</td>\n",
       "      <td>0</td>\n",
       "      <td>2.204735</td>\n",
       "      <td>0.224</td>\n",
       "      <td>3.88864</td>\n",
       "      <td>6674.7</td>\n",
       "      <td>16.10</td>\n",
       "      <td>2048.0</td>\n",
       "      <td>4148.92</td>\n",
       "      <td>5945.9</td>\n",
       "      <td>6440.0</td>\n",
       "      <td>4.019</td>\n",
       "      <td>1.952</td>\n",
       "      <td>10.463</td>\n",
       "      <td>1</td>\n",
       "    </tr>\n",
       "    <tr>\n",
       "      <th>2</th>\n",
       "      <td>0</td>\n",
       "      <td>0</td>\n",
       "      <td>0</td>\n",
       "      <td>0</td>\n",
       "      <td>4.887803</td>\n",
       "      <td>0.054</td>\n",
       "      <td>2.36255</td>\n",
       "      <td>4315.8</td>\n",
       "      <td>4.82</td>\n",
       "      <td>800.0</td>\n",
       "      <td>96.67</td>\n",
       "      <td>862.3</td>\n",
       "      <td>4778.0</td>\n",
       "      <td>4.591</td>\n",
       "      <td>0.763</td>\n",
       "      <td>9.174</td>\n",
       "      <td>1</td>\n",
       "    </tr>\n",
       "    <tr>\n",
       "      <th>3</th>\n",
       "      <td>0</td>\n",
       "      <td>1</td>\n",
       "      <td>0</td>\n",
       "      <td>0</td>\n",
       "      <td>3.849372</td>\n",
       "      <td>0.915</td>\n",
       "      <td>2.63200</td>\n",
       "      <td>1298.6</td>\n",
       "      <td>12.94</td>\n",
       "      <td>2034.0</td>\n",
       "      <td>4055.29</td>\n",
       "      <td>132.7</td>\n",
       "      <td>6244.0</td>\n",
       "      <td>3.657</td>\n",
       "      <td>2.992</td>\n",
       "      <td>11.432</td>\n",
       "      <td>1</td>\n",
       "    </tr>\n",
       "    <tr>\n",
       "      <th>4</th>\n",
       "      <td>0</td>\n",
       "      <td>0</td>\n",
       "      <td>1</td>\n",
       "      <td>1</td>\n",
       "      <td>1.334101</td>\n",
       "      <td>0.153</td>\n",
       "      <td>2.10330</td>\n",
       "      <td>120.8</td>\n",
       "      <td>1.74</td>\n",
       "      <td>2169.0</td>\n",
       "      <td>5207.55</td>\n",
       "      <td>43.0</td>\n",
       "      <td>6178.0</td>\n",
       "      <td>4.106</td>\n",
       "      <td>1.580</td>\n",
       "      <td>12.161</td>\n",
       "      <td>0</td>\n",
       "    </tr>\n",
       "  </tbody>\n",
       "</table>\n",
       "</div>"
      ],
      "text/plain": [
       "   koi_fpflag_nt  koi_fpflag_ss  koi_fpflag_co  koi_fpflag_ec  koi_period  \\\n",
       "0              0              0              0              0    2.470613   \n",
       "1              0              1              0              0    2.204735   \n",
       "2              0              0              0              0    4.887803   \n",
       "3              0              1              0              0    3.849372   \n",
       "4              0              0              1              1    1.334101   \n",
       "\n",
       "   koi_impact  koi_duration  koi_depth  koi_prad  koi_teq  koi_insol  \\\n",
       "0       0.818       1.74319    14230.9     13.04   1339.0     761.46   \n",
       "1       0.224       3.88864     6674.7     16.10   2048.0    4148.92   \n",
       "2       0.054       2.36255     4315.8      4.82    800.0      96.67   \n",
       "3       0.915       2.63200     1298.6     12.94   2034.0    4055.29   \n",
       "4       0.153       2.10330      120.8      1.74   2169.0    5207.55   \n",
       "\n",
       "   koi_model_snr  koi_steff  koi_slogg  koi_srad  koi_kepmag  label  \n",
       "0         4304.3     5820.0      4.457     0.964      11.338      1  \n",
       "1         5945.9     6440.0      4.019     1.952      10.463      1  \n",
       "2          862.3     4778.0      4.591     0.763       9.174      1  \n",
       "3          132.7     6244.0      3.657     2.992      11.432      1  \n",
       "4           43.0     6178.0      4.106     1.580      12.161      0  "
      ]
     },
     "execution_count": 81,
     "metadata": {},
     "output_type": "execute_result"
    }
   ],
   "source": [
    "cols_a_dropear = ['kepid',\n",
    "                  'kepoi_name',\n",
    "                  'kepler_name',\n",
    "                  'koi_tce_delivname',\n",
    "                  'koi_pdisposition',\n",
    "                  'koi_disposition',\n",
    "                  'koi_score',\n",
    "                  'koi_period_err1',\n",
    "                  'koi_period_err2',\n",
    "                  'koi_time0bk_err1',\n",
    "                  'koi_time0bk_err2',\n",
    "                  'koi_impact_err1',\n",
    "                  'koi_impact_err2',\n",
    "                  'koi_duration_err1',\n",
    "                  'koi_duration_err2',\n",
    "                  'koi_depth_err1',\n",
    "                  'koi_depth_err2',\n",
    "                  'koi_prad_err1',\n",
    "                  'koi_prad_err2',\n",
    "                  'koi_teq_err1',\n",
    "                  'koi_teq_err2',\n",
    "                  'koi_insol_err1',\n",
    "                  'koi_insol_err2',\n",
    "                  'koi_steff_err1',\n",
    "                  'koi_steff_err2',\n",
    "                  'koi_slogg_err1',\n",
    "                  'koi_slogg_err2',\n",
    "                  'koi_srad_err1',\n",
    "                  'koi_srad_err2',\n",
    "                  'koi_tce_plnt_num',\n",
    "                  'ra','dec','koi_time0bk']\n",
    "df = df_augmented.drop(columns=cols_a_dropear)\n",
    "df.head()"
   ]
  },
  {
   "cell_type": "markdown",
   "id": "3a9d6c06-262a-41ee-9e05-eb2ebdb7ff89",
   "metadata": {},
   "source": [
    "### Nulos"
   ]
  },
  {
   "cell_type": "markdown",
   "id": "lZQHDx_83-2C",
   "metadata": {
    "id": "lZQHDx_83-2C"
   },
   "source": [
    "Chequeo si hay valores nulos"
   ]
  },
  {
   "cell_type": "code",
   "execution_count": 66,
   "id": "JrAedjWo3NPG",
   "metadata": {
    "colab": {
     "base_uri": "https://localhost:8080/"
    },
    "id": "JrAedjWo3NPG",
    "outputId": "abf7f786-c353-4749-e945-9d87e40bef8d"
   },
   "outputs": [
    {
     "name": "stdout",
     "output_type": "stream",
     "text": [
      "\n",
      "Cantidad de NaN por columna:\n",
      "koi_fpflag_nt     0\n",
      "koi_fpflag_ss     0\n",
      "koi_fpflag_co     0\n",
      "koi_fpflag_ec     0\n",
      "koi_period        0\n",
      "koi_impact       57\n",
      "koi_duration      0\n",
      "koi_depth        57\n",
      "koi_prad         57\n",
      "koi_teq          57\n",
      "koi_insol        57\n",
      "koi_model_snr    57\n",
      "koi_steff        57\n",
      "koi_slogg        57\n",
      "koi_srad         57\n",
      "koi_kepmag        1\n",
      "label             0\n",
      "dtype: int64\n"
     ]
    }
   ],
   "source": [
    "print(\"\\nCantidad de NaN por columna:\")\n",
    "print(df.isna().sum())"
   ]
  },
  {
   "cell_type": "code",
   "execution_count": 39,
   "id": "cDIwiyPw3eSR",
   "metadata": {
    "colab": {
     "base_uri": "https://localhost:8080/"
    },
    "id": "cDIwiyPw3eSR",
    "outputId": "5b254cd0-e616-48e8-c1bc-7091d0b6bc14"
   },
   "outputs": [
    {
     "name": "stdout",
     "output_type": "stream",
     "text": [
      "Total de filas con NaN: 58\n"
     ]
    }
   ],
   "source": [
    "filas_con_nan = df[df.isna().any(axis=1)]\n",
    "print(f\"Total de filas con NaN: {len(filas_con_nan)}\")"
   ]
  },
  {
   "cell_type": "markdown",
   "id": "DxoiMC3U38CB",
   "metadata": {
    "id": "DxoiMC3U38CB"
   },
   "source": [
    "Ya que se trata de muy pocas filas podemos dropearlas"
   ]
  },
  {
   "cell_type": "code",
   "execution_count": 67,
   "id": "CWokPasK4OIO",
   "metadata": {
    "id": "CWokPasK4OIO"
   },
   "outputs": [],
   "source": [
    "df = df.dropna()"
   ]
  },
  {
   "cell_type": "markdown",
   "id": "e7067617-bc2d-4ae9-a41a-61acd534ce24",
   "metadata": {},
   "source": [
    "### Outliers"
   ]
  },
  {
   "cell_type": "code",
   "execution_count": 88,
   "id": "f1f825d4-9688-4c9b-a58e-8ada162caf01",
   "metadata": {},
   "outputs": [
    {
     "data": {
      "text/plain": [
       "Index(['koi_fpflag_nt', 'koi_fpflag_ss', 'koi_fpflag_co', 'koi_fpflag_ec',\n",
       "       'koi_period', 'koi_impact', 'koi_duration', 'koi_depth', 'koi_prad',\n",
       "       'koi_teq', 'koi_insol', 'koi_model_snr', 'koi_steff', 'koi_slogg',\n",
       "       'koi_srad', 'koi_kepmag', 'label'],\n",
       "      dtype='object')"
      ]
     },
     "execution_count": 88,
     "metadata": {},
     "output_type": "execute_result"
    }
   ],
   "source": [
    "df.columns"
   ]
  },
  {
   "cell_type": "code",
   "execution_count": 89,
   "id": "c9b5adaa-e210-4830-9266-a12347ff6b32",
   "metadata": {},
   "outputs": [
    {
     "data": {
      "text/html": [
       "<div>\n",
       "<style scoped>\n",
       "    .dataframe tbody tr th:only-of-type {\n",
       "        vertical-align: middle;\n",
       "    }\n",
       "\n",
       "    .dataframe tbody tr th {\n",
       "        vertical-align: top;\n",
       "    }\n",
       "\n",
       "    .dataframe thead th {\n",
       "        text-align: right;\n",
       "    }\n",
       "</style>\n",
       "<table border=\"1\" class=\"dataframe\">\n",
       "  <thead>\n",
       "    <tr style=\"text-align: right;\">\n",
       "      <th></th>\n",
       "      <th>koi_period</th>\n",
       "      <th>koi_impact</th>\n",
       "      <th>koi_duration</th>\n",
       "      <th>koi_depth</th>\n",
       "      <th>koi_prad</th>\n",
       "      <th>koi_teq</th>\n",
       "      <th>koi_insol</th>\n",
       "      <th>koi_model_snr</th>\n",
       "      <th>koi_steff</th>\n",
       "      <th>koi_slogg</th>\n",
       "      <th>koi_srad</th>\n",
       "      <th>koi_kepmag</th>\n",
       "    </tr>\n",
       "  </thead>\n",
       "  <tbody>\n",
       "    <tr>\n",
       "      <th>count</th>\n",
       "      <td>7232.000000</td>\n",
       "      <td>7175.000000</td>\n",
       "      <td>7232.000000</td>\n",
       "      <td>7175.000000</td>\n",
       "      <td>7175.000000</td>\n",
       "      <td>7175.000000</td>\n",
       "      <td>7.175000e+03</td>\n",
       "      <td>7175.000000</td>\n",
       "      <td>7175.000000</td>\n",
       "      <td>7175.000000</td>\n",
       "      <td>7175.000000</td>\n",
       "      <td>7231.000000</td>\n",
       "    </tr>\n",
       "    <tr>\n",
       "      <th>mean</th>\n",
       "      <td>34.099323</td>\n",
       "      <td>0.636435</td>\n",
       "      <td>5.402058</td>\n",
       "      <td>29315.427526</td>\n",
       "      <td>30.213390</td>\n",
       "      <td>1166.673449</td>\n",
       "      <td>7.891672e+03</td>\n",
       "      <td>321.239568</td>\n",
       "      <td>5692.573240</td>\n",
       "      <td>4.319153</td>\n",
       "      <td>1.693912</td>\n",
       "      <td>14.301024</td>\n",
       "    </tr>\n",
       "    <tr>\n",
       "      <th>std</th>\n",
       "      <td>82.221429</td>\n",
       "      <td>0.793831</td>\n",
       "      <td>6.544772</td>\n",
       "      <td>89133.291120</td>\n",
       "      <td>328.787791</td>\n",
       "      <td>856.221959</td>\n",
       "      <td>1.569648e+05</td>\n",
       "      <td>880.890982</td>\n",
       "      <td>800.743992</td>\n",
       "      <td>0.424711</td>\n",
       "      <td>6.025788</td>\n",
       "      <td>1.389064</td>\n",
       "    </tr>\n",
       "    <tr>\n",
       "      <th>min</th>\n",
       "      <td>0.259820</td>\n",
       "      <td>0.000000</td>\n",
       "      <td>0.052000</td>\n",
       "      <td>0.000000</td>\n",
       "      <td>0.080000</td>\n",
       "      <td>92.000000</td>\n",
       "      <td>2.000000e-02</td>\n",
       "      <td>0.000000</td>\n",
       "      <td>2661.000000</td>\n",
       "      <td>0.047000</td>\n",
       "      <td>0.116000</td>\n",
       "      <td>6.966000</td>\n",
       "    </tr>\n",
       "    <tr>\n",
       "      <th>50%</th>\n",
       "      <td>7.139325</td>\n",
       "      <td>0.608000</td>\n",
       "      <td>3.729450</td>\n",
       "      <td>507.100000</td>\n",
       "      <td>2.640000</td>\n",
       "      <td>955.000000</td>\n",
       "      <td>1.965100e+02</td>\n",
       "      <td>32.300000</td>\n",
       "      <td>5759.000000</td>\n",
       "      <td>4.440000</td>\n",
       "      <td>0.996000</td>\n",
       "      <td>14.553000</td>\n",
       "    </tr>\n",
       "    <tr>\n",
       "      <th>90%</th>\n",
       "      <td>77.243456</td>\n",
       "      <td>1.194000</td>\n",
       "      <td>9.981440</td>\n",
       "      <td>82642.560000</td>\n",
       "      <td>59.226000</td>\n",
       "      <td>2110.800000</td>\n",
       "      <td>4.684016e+03</td>\n",
       "      <td>899.900000</td>\n",
       "      <td>6403.600000</td>\n",
       "      <td>4.614000</td>\n",
       "      <td>2.122200</td>\n",
       "      <td>15.768000</td>\n",
       "    </tr>\n",
       "    <tr>\n",
       "      <th>99%</th>\n",
       "      <td>419.309804</td>\n",
       "      <td>1.446280</td>\n",
       "      <td>30.791800</td>\n",
       "      <td>436671.360000</td>\n",
       "      <td>330.759400</td>\n",
       "      <td>4197.820000</td>\n",
       "      <td>7.330199e+04</td>\n",
       "      <td>4705.718000</td>\n",
       "      <td>8219.980000</td>\n",
       "      <td>4.800000</td>\n",
       "      <td>13.465700</td>\n",
       "      <td>17.065700</td>\n",
       "    </tr>\n",
       "    <tr>\n",
       "      <th>max</th>\n",
       "      <td>1071.232624</td>\n",
       "      <td>25.224000</td>\n",
       "      <td>138.540000</td>\n",
       "      <td>921671.000000</td>\n",
       "      <td>26042.900000</td>\n",
       "      <td>14667.000000</td>\n",
       "      <td>1.094755e+07</td>\n",
       "      <td>9054.700000</td>\n",
       "      <td>15896.000000</td>\n",
       "      <td>5.283000</td>\n",
       "      <td>229.908000</td>\n",
       "      <td>20.003000</td>\n",
       "    </tr>\n",
       "  </tbody>\n",
       "</table>\n",
       "</div>"
      ],
      "text/plain": [
       "        koi_period   koi_impact  koi_duration      koi_depth      koi_prad  \\\n",
       "count  7232.000000  7175.000000   7232.000000    7175.000000   7175.000000   \n",
       "mean     34.099323     0.636435      5.402058   29315.427526     30.213390   \n",
       "std      82.221429     0.793831      6.544772   89133.291120    328.787791   \n",
       "min       0.259820     0.000000      0.052000       0.000000      0.080000   \n",
       "50%       7.139325     0.608000      3.729450     507.100000      2.640000   \n",
       "90%      77.243456     1.194000      9.981440   82642.560000     59.226000   \n",
       "99%     419.309804     1.446280     30.791800  436671.360000    330.759400   \n",
       "max    1071.232624    25.224000    138.540000  921671.000000  26042.900000   \n",
       "\n",
       "            koi_teq     koi_insol  koi_model_snr     koi_steff    koi_slogg  \\\n",
       "count   7175.000000  7.175000e+03    7175.000000   7175.000000  7175.000000   \n",
       "mean    1166.673449  7.891672e+03     321.239568   5692.573240     4.319153   \n",
       "std      856.221959  1.569648e+05     880.890982    800.743992     0.424711   \n",
       "min       92.000000  2.000000e-02       0.000000   2661.000000     0.047000   \n",
       "50%      955.000000  1.965100e+02      32.300000   5759.000000     4.440000   \n",
       "90%     2110.800000  4.684016e+03     899.900000   6403.600000     4.614000   \n",
       "99%     4197.820000  7.330199e+04    4705.718000   8219.980000     4.800000   \n",
       "max    14667.000000  1.094755e+07    9054.700000  15896.000000     5.283000   \n",
       "\n",
       "          koi_srad   koi_kepmag  \n",
       "count  7175.000000  7231.000000  \n",
       "mean      1.693912    14.301024  \n",
       "std       6.025788     1.389064  \n",
       "min       0.116000     6.966000  \n",
       "50%       0.996000    14.553000  \n",
       "90%       2.122200    15.768000  \n",
       "99%      13.465700    17.065700  \n",
       "max     229.908000    20.003000  "
      ]
     },
     "execution_count": 89,
     "metadata": {},
     "output_type": "execute_result"
    }
   ],
   "source": [
    "check_outliers_cols = ['koi_period',\n",
    "                       'koi_impact',\n",
    "                       'koi_duration',\n",
    "                       'koi_depth',\n",
    "                       'koi_prad',        \n",
    "                       'koi_teq', \n",
    "                       'koi_insol',\n",
    "                       'koi_model_snr', \n",
    "                       'koi_steff',\n",
    "                       'koi_slogg',\n",
    "                       'koi_srad', \n",
    "                       'koi_kepmag']\n",
    "df[check_outliers_cols].describe(percentiles=[.5, .9, .99])"
   ]
  },
  {
   "cell_type": "code",
   "execution_count": 41,
   "id": "-g-slSBHk6Ot",
   "metadata": {
    "id": "-g-slSBHk6Ot"
   },
   "outputs": [],
   "source": [
    "#import seaborn as sns\n",
    "#import matplotlib.pyplot as plt\n",
    "#sns.pairplot(df)\n",
    "#plt.show()"
   ]
  },
  {
   "cell_type": "markdown",
   "id": "o9KnbvYo4yAU",
   "metadata": {
    "id": "o9KnbvYo4yAU"
   },
   "source": [
    "SelectKbest"
   ]
  },
  {
   "cell_type": "code",
   "execution_count": 68,
   "id": "_Q1VX2PV0Pr-",
   "metadata": {
    "colab": {
     "base_uri": "https://localhost:8080/"
    },
    "id": "_Q1VX2PV0Pr-",
    "outputId": "b28a5435-9bce-4e67-acaa-10ab87fea156"
   },
   "outputs": [
    {
     "name": "stdout",
     "output_type": "stream",
     "text": [
      "Top features by chi2:\n",
      "koi_fpflag_nt        707.83\n",
      "koi_fpflag_ss        1639.96\n",
      "koi_fpflag_co        1414.97\n",
      "koi_fpflag_ec        898.23\n",
      "koi_period           8.23\n",
      "koi_impact           12.38\n",
      "koi_duration         12.00\n",
      "koi_depth            176.29\n",
      "koi_teq              32.89\n",
      "koi_model_snr        125.61\n",
      "\n",
      "Top features by f_classif:\n",
      "koi_fpflag_nt        920.47\n",
      "koi_fpflag_ss        3429.06\n",
      "koi_fpflag_co        2527.54\n",
      "koi_fpflag_ec        1240.11\n",
      "koi_impact           329.87\n",
      "koi_duration         216.87\n",
      "koi_depth            653.99\n",
      "koi_teq              778.81\n",
      "koi_model_snr        503.82\n",
      "koi_steff            348.36\n"
     ]
    }
   ],
   "source": [
    "from sklearn.feature_selection import SelectKBest, chi2, f_classif\n",
    "from sklearn.preprocessing import MinMaxScaler\n",
    "import pandas as pd\n",
    "\n",
    "# Prepare data\n",
    "X = df.drop(columns=['label'])\n",
    "y = df['label']\n",
    "\n",
    "# Scale data for chi2\n",
    "scaler = MinMaxScaler()\n",
    "X_scaled = pd.DataFrame(scaler.fit_transform(X), columns=X.columns)\n",
    "\n",
    "# Feature selection with chi2\n",
    "k = 10\n",
    "chi2_selector = SelectKBest(chi2, k=k)\n",
    "chi2_selector.fit(X_scaled, y)\n",
    "\n",
    "# Feature selection with f_classif\n",
    "f_selector = SelectKBest(f_classif, k=k)\n",
    "f_selector.fit(X, y)\n",
    "\n",
    "# Display results\n",
    "print(\"Top features by chi2:\")\n",
    "for feature, score in zip(X.columns[chi2_selector.get_support()], chi2_selector.scores_[chi2_selector.get_support()]):\n",
    "    print(f\"{feature:20} {score:.2f}\")\n",
    "\n",
    "print(\"\\nTop features by f_classif:\")\n",
    "for feature, score in zip(X.columns[f_selector.get_support()], f_selector.scores_[f_selector.get_support()]):\n",
    "    print(f\"{feature:20} {score:.2f}\")"
   ]
  },
  {
   "cell_type": "markdown",
   "id": "3c960b81-1c96-41ef-a531-c6417ca5d3aa",
   "metadata": {},
   "source": [
    "## Implementacion de algoritmos de ML"
   ]
  },
  {
   "cell_type": "markdown",
   "id": "ZcDk_lHQgk6k",
   "metadata": {
    "id": "ZcDk_lHQgk6k"
   },
   "source": [
    "Random Forest sin Flags"
   ]
  },
  {
   "cell_type": "code",
   "execution_count": 69,
   "id": "bn8_nlVD2hhg",
   "metadata": {
    "colab": {
     "base_uri": "https://localhost:8080/",
     "height": 1000
    },
    "id": "bn8_nlVD2hhg",
    "outputId": "72aaef4f-d902-4e91-cb96-b809525fcce8"
   },
   "outputs": [
    {
     "name": "stdout",
     "output_type": "stream",
     "text": [
      "\n",
      "=== Classification Report ===\n",
      "              precision    recall  f1-score   support\n",
      "\n",
      "           0       0.93      0.87      0.90       782\n",
      "           1       0.86      0.92      0.89       653\n",
      "\n",
      "    accuracy                           0.90      1435\n",
      "   macro avg       0.90      0.90      0.90      1435\n",
      "weighted avg       0.90      0.90      0.90      1435\n",
      "\n",
      "ROC AUC: 0.9584026899260937\n"
     ]
    },
    {
     "data": {
      "image/png": "[encoded data removed]",
      "text/plain": [
       "<Figure size 640x480 with 2 Axes>"
      ]
     },
     "metadata": {},
     "output_type": "display_data"
    },
    {
     "data": {
      "image/png": "[encoded data removed]",
      "text/plain": [
       "<Figure size 640x480 with 1 Axes>"
      ]
     },
     "metadata": {},
     "output_type": "display_data"
    },
    {
     "name": "stderr",
     "output_type": "stream",
     "text": [
      "/tmp/ipykernel_29334/439701397.py:71: FutureWarning: \n",
      "\n",
      "Passing `palette` without assigning `hue` is deprecated and will be removed in v0.14.0. Assign the `y` variable to `hue` and set `legend=False` for the same effect.\n",
      "\n",
      "  sns.barplot(x=importances.values, y=importances.index, palette=\"viridis\")\n"
     ]
    },
    {
     "data": {
      "image/png": "[encoded data removed]",
      "text/plain": [
       "<Figure size 1000x600 with 1 Axes>"
      ]
     },
     "metadata": {},
     "output_type": "display_data"
    }
   ],
   "source": [
    "import pandas as pd\n",
    "import numpy as np\n",
    "from sklearn.model_selection import train_test_split\n",
    "from sklearn.ensemble import RandomForestClassifier\n",
    "from sklearn.metrics import (\n",
    "    classification_report,\n",
    "    confusion_matrix,\n",
    "    roc_auc_score,\n",
    "    RocCurveDisplay\n",
    ")\n",
    "import matplotlib.pyplot as plt\n",
    "import seaborn as sns\n",
    "\n",
    "# Dropear flags\n",
    "cols_to_drop = [\n",
    "    'koi_fpflag_nt', 'koi_fpflag_ss', 'koi_fpflag_co', 'koi_fpflag_ec'\n",
    "]\n",
    "df.drop(columns=cols_to_drop, inplace=True, errors='ignore')\n",
    "\n",
    "\n",
    "# Separar features y label\n",
    "\n",
    "X = df.drop(columns=['label'])\n",
    "y = df['label']\n",
    "\n",
    "\n",
    "# Dividir train/test\n",
    "\n",
    "X_train, X_test, y_train, y_test = train_test_split(\n",
    "    X, y, test_size=0.2, stratify=y, random_state=42\n",
    ")\n",
    "\n",
    "# Entrenar modelo\n",
    "\n",
    "clf = RandomForestClassifier(\n",
    "    n_estimators=150,\n",
    "    max_depth=10,\n",
    "    class_weight='balanced',\n",
    "    random_state=42\n",
    ")\n",
    "clf.fit(X_train, y_train)\n",
    "\n",
    "# Evaluación\n",
    "\n",
    "y_pred = clf.predict(X_test)\n",
    "y_prob = clf.predict_proba(X_test)[:, 1]\n",
    "\n",
    "print(\"\\n=== Classification Report ===\")\n",
    "print(classification_report(y_test, y_pred))\n",
    "\n",
    "print(\"ROC AUC:\", roc_auc_score(y_test, y_prob))\n",
    "\n",
    "# Matriz de confusión\n",
    "conf = confusion_matrix(y_test, y_pred)\n",
    "sns.heatmap(conf, annot=True, fmt=\"d\", cmap=\"Blues\", xticklabels=[\"FP\", \"CONF\"], yticklabels=[\"FP\", \"CONF\"])\n",
    "plt.xlabel(\"Predicho\")\n",
    "plt.ylabel(\"Real\")\n",
    "plt.title(\"Matriz de Confusión\")\n",
    "plt.show()\n",
    "\n",
    "# Curva ROC\n",
    "RocCurveDisplay.from_estimator(clf, X_test, y_test)\n",
    "plt.title(\"Curva ROC\")\n",
    "plt.show()\n",
    "\n",
    "# Importancia de variables\n",
    "importances = pd.Series(clf.feature_importances_, index=X.columns)\n",
    "importances = importances.sort_values(ascending=False)\n",
    "\n",
    "plt.figure(figsize=(10, 6))\n",
    "sns.barplot(x=importances.values, y=importances.index, palette=\"viridis\")\n",
    "plt.title(\"Importancia de variables (Random Forest)\")\n",
    "plt.xlabel(\"Importancia\")\n",
    "plt.tight_layout()\n",
    "plt.show()\n"
   ]
  },
  {
   "cell_type": "code",
   "execution_count": 47,
   "id": "ivfpgJL7g6Kt",
   "metadata": {
    "id": "ivfpgJL7g6Kt"
   },
   "outputs": [],
   "source": [
    "def check_and_remove_outliers(df, column, percentile=95, remove=False, verbose=True):\n",
    "    cutoff = np.percentile(df[column].dropna(), percentile)\n",
    "    outliers = df[column] > cutoff\n",
    "    num_outliers = outliers.sum()\n",
    "\n",
    "    if verbose:\n",
    "        print(f\"Column: {column}\")\n",
    "        print(f\"  Percentile ({percentile}%): {cutoff:.4f}\")\n",
    "        print(f\"  Number of outliers: {num_outliers} ({num_outliers / len(df) * 100:.2f}%)\")\n",
    "\n",
    "    if remove:\n",
    "        return df[~outliers].copy()\n",
    "    else:\n",
    "        return num_outliers\n"
   ]
  },
  {
   "cell_type": "code",
   "execution_count": 61,
   "id": "5a69f47e-2dce-43c0-81d0-af5c265f33cb",
   "metadata": {},
   "outputs": [
    {
     "name": "stdout",
     "output_type": "stream",
     "text": [
      "Column: koi_depth\n",
      "  Percentile (95%): 1451.0450\n",
      "  Number of outliers: 264 (4.95%)\n"
     ]
    }
   ],
   "source": [
    "df = check_and_remove_outliers(df, 'koi_depth', remove=True)"
   ]
  },
  {
   "cell_type": "code",
   "execution_count": 64,
   "id": "2f18cc46-e6ce-4385-9ee0-4869bf768768",
   "metadata": {},
   "outputs": [
    {
     "data": {
      "text/plain": [
       "label\n",
       "1    2861\n",
       "0    2204\n",
       "Name: count, dtype: int64"
      ]
     },
     "execution_count": 64,
     "metadata": {},
     "output_type": "execute_result"
    }
   ],
   "source": [
    "df.label.value_counts()"
   ]
  }
 ],
 "metadata": {
  "colab": {
   "provenance": []
  },
  "kernelspec": {
   "display_name": "Python 3 (ipykernel)",
   "language": "python",
   "name": "python3"
  },
  "language_info": {
   "codemirror_mode": {
    "name": "ipython",
    "version": 3
   },
   "file_extension": ".py",
   "mimetype": "text/x-python",
   "name": "python",
   "nbconvert_exporter": "python",
   "pygments_lexer": "ipython3",
   "version": "3.10.12"
  }
 },
 "nbformat": 4,
 "nbformat_minor": 5
}
