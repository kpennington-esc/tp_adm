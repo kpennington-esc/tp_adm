{
 "cells": [
  {
   "cell_type": "markdown",
   "id": "c8825909-28bb-4638-a7f3-329b46f2ea8b",
   "metadata": {},
   "source": [
    "# Trabajo práctico Aprendizaje de Máquina - *NASA Exoplanet Archive*\n",
    "*Pablo Brahim - Kevin Pennington*"
   ]
  },
  {
   "cell_type": "markdown",
   "id": "e9218d16-cec9-4ca4-b838-137abef336dc",
   "metadata": {},
   "source": [
    "## Introducción al conjunto de datos KOI Q1–Q17 DR 25\n",
    "\n",
    "El conjunto de datos utilizado en este trabajo corresponde a la **tabla de objetos de interés Kepler (Kepler Object-of-Interest - KOI) del Data Release 25 (DR 25)**, disponible públicamente en el [NASA Exoplanet Archive](https://exoplanetarchive.ipac.caltech.edu/). Esta tabla contiene el resultado del análisis automatizado de curvas de luz obtenidas por el telescopio espacial **Kepler**, que tuvo como objetivo principal la detección de exoplanetas mediante el método de tránsito.\n",
    "\n",
    "Durante su misión, Kepler monitoreó de forma continua la luminosidad de más de 150,000 estrellas. Variaciones periódicas en el brillo de una estrella pueden indicar que un objeto (como un planeta) pasa frente a ella, generando una pequeña disminución en la intensidad observada. Estas señales, conocidas como **eventos de cruce de umbral** (*Threshold Crossing Events*, o TCEs), son clasificadas y evaluadas en busca de patrones consistentes con un tránsito planetario.\n",
    "\n",
    "En el DR 25, el análisis se realizó de forma completamente automatizada mediante un sistema denominado **Robovetter**, que aplica una serie de pruebas y métricas para determinar si una señal es **similar a un tránsito** (*transit-like*) o no. Aquellas consideradas transit-like reciben un número KOI y son sometidas a pruebas adicionales para descartar falsas detecciones, como eclipses estelares, errores instrumentales o señales contaminadas por objetos cercanos.\n",
    "\n",
    "Cada KOI es finalmente etiquetado con una **disposición** (*disposition*), que puede ser:\n",
    "- **PC** (*Planet Candidate*): candidato a planeta.\n",
    "- **FP** (*False Positive*): falso positivo.\n",
    "- (implícitamente) **Not transit-like**: señales que no fueron promovidas a KOI por no parecerse a un tránsito.\n",
    "\n",
    "Adicionalmente, se incluye un parámetro llamado **Disposition Score**, un valor entre 0 y 1 que refleja el nivel de confianza del sistema en la disposición asignada. Valores cercanos a 1 indican alta confianza en que se trata de un planeta candidato, mientras que valores cercanos a 0 reflejan alta confianza en que es un falso positivo.\n",
    "\n",
    "Es importante destacar que este catálogo fue construido con fines estadísticos y de uniformidad para estudios de tasa de ocurrencia planetaria. Por ello, algunas disposiciones pueden diferir de catálogos anteriores más conservadores, priorizándose en este caso la **confiabilidad global del conjunto por sobre la revisión manual individual de cada sistema**.\n",
    "\n",
    "Este dataset incluye parámetros orbitales, características de la curva de luz, y propiedades estimadas de la estrella anfitriona y del posible planeta, calculados principalmente mediante métodos de ajuste como el muestreo Monte Carlo de cadenas de Markov (MCMC).\n"
   ]
  },
  {
   "cell_type": "code",
   "execution_count": 44,
   "id": "067d180a-dddd-41a6-8ece-68548c402768",
   "metadata": {},
   "outputs": [],
   "source": [
    "import matplotlib.pyplot as plt\n",
    "import pandas as pd\n",
    "import seaborn as sns"
   ]
  },
  {
   "cell_type": "code",
   "execution_count": 2,
   "id": "aa33b015-9997-4c50-87c1-84fae491c4a0",
   "metadata": {},
   "outputs": [
    {
     "data": {
      "text/html": [
       "<div>\n",
       "<style scoped>\n",
       "    .dataframe tbody tr th:only-of-type {\n",
       "        vertical-align: middle;\n",
       "    }\n",
       "\n",
       "    .dataframe tbody tr th {\n",
       "        vertical-align: top;\n",
       "    }\n",
       "\n",
       "    .dataframe thead th {\n",
       "        text-align: right;\n",
       "    }\n",
       "</style>\n",
       "<table border=\"1\" class=\"dataframe\">\n",
       "  <thead>\n",
       "    <tr style=\"text-align: right;\">\n",
       "      <th></th>\n",
       "      <th>kepid</th>\n",
       "      <th>kepoi_name</th>\n",
       "      <th>kepler_name</th>\n",
       "      <th>koi_disposition</th>\n",
       "      <th>koi_pdisposition</th>\n",
       "      <th>koi_score</th>\n",
       "      <th>koi_fpflag_nt</th>\n",
       "      <th>koi_fpflag_ss</th>\n",
       "      <th>koi_fpflag_co</th>\n",
       "      <th>koi_fpflag_ec</th>\n",
       "      <th>...</th>\n",
       "      <th>koi_steff_err2</th>\n",
       "      <th>koi_slogg</th>\n",
       "      <th>koi_slogg_err1</th>\n",
       "      <th>koi_slogg_err2</th>\n",
       "      <th>koi_srad</th>\n",
       "      <th>koi_srad_err1</th>\n",
       "      <th>koi_srad_err2</th>\n",
       "      <th>ra</th>\n",
       "      <th>dec</th>\n",
       "      <th>koi_kepmag</th>\n",
       "    </tr>\n",
       "  </thead>\n",
       "  <tbody>\n",
       "    <tr>\n",
       "      <th>0</th>\n",
       "      <td>11446443</td>\n",
       "      <td>K00001.01</td>\n",
       "      <td>Kepler-1 b</td>\n",
       "      <td>CONFIRMED</td>\n",
       "      <td>CANDIDATE</td>\n",
       "      <td>0.811</td>\n",
       "      <td>0</td>\n",
       "      <td>0</td>\n",
       "      <td>0</td>\n",
       "      <td>0</td>\n",
       "      <td>...</td>\n",
       "      <td>-78.0</td>\n",
       "      <td>4.457</td>\n",
       "      <td>0.024</td>\n",
       "      <td>-0.024</td>\n",
       "      <td>0.964</td>\n",
       "      <td>0.038</td>\n",
       "      <td>-0.038</td>\n",
       "      <td>286.80847</td>\n",
       "      <td>49.316399</td>\n",
       "      <td>11.338</td>\n",
       "    </tr>\n",
       "    <tr>\n",
       "      <th>1</th>\n",
       "      <td>10666592</td>\n",
       "      <td>K00002.01</td>\n",
       "      <td>Kepler-2 b</td>\n",
       "      <td>CONFIRMED</td>\n",
       "      <td>CANDIDATE</td>\n",
       "      <td>1.000</td>\n",
       "      <td>0</td>\n",
       "      <td>1</td>\n",
       "      <td>0</td>\n",
       "      <td>0</td>\n",
       "      <td>...</td>\n",
       "      <td>-89.0</td>\n",
       "      <td>4.019</td>\n",
       "      <td>0.033</td>\n",
       "      <td>-0.027</td>\n",
       "      <td>1.952</td>\n",
       "      <td>0.099</td>\n",
       "      <td>-0.110</td>\n",
       "      <td>292.24728</td>\n",
       "      <td>47.969521</td>\n",
       "      <td>10.463</td>\n",
       "    </tr>\n",
       "    <tr>\n",
       "      <th>2</th>\n",
       "      <td>10748390</td>\n",
       "      <td>K00003.01</td>\n",
       "      <td>Kepler-3 b</td>\n",
       "      <td>CONFIRMED</td>\n",
       "      <td>CANDIDATE</td>\n",
       "      <td>0.913</td>\n",
       "      <td>0</td>\n",
       "      <td>0</td>\n",
       "      <td>0</td>\n",
       "      <td>0</td>\n",
       "      <td>...</td>\n",
       "      <td>-95.0</td>\n",
       "      <td>4.591</td>\n",
       "      <td>0.015</td>\n",
       "      <td>-0.036</td>\n",
       "      <td>0.763</td>\n",
       "      <td>0.028</td>\n",
       "      <td>-0.028</td>\n",
       "      <td>297.70935</td>\n",
       "      <td>48.080853</td>\n",
       "      <td>9.174</td>\n",
       "    </tr>\n",
       "    <tr>\n",
       "      <th>3</th>\n",
       "      <td>3861595</td>\n",
       "      <td>K00004.01</td>\n",
       "      <td>Kepler-1658 b</td>\n",
       "      <td>CONFIRMED</td>\n",
       "      <td>CANDIDATE</td>\n",
       "      <td>1.000</td>\n",
       "      <td>0</td>\n",
       "      <td>1</td>\n",
       "      <td>0</td>\n",
       "      <td>0</td>\n",
       "      <td>...</td>\n",
       "      <td>-114.0</td>\n",
       "      <td>3.657</td>\n",
       "      <td>0.270</td>\n",
       "      <td>-0.090</td>\n",
       "      <td>2.992</td>\n",
       "      <td>0.416</td>\n",
       "      <td>-0.971</td>\n",
       "      <td>294.35654</td>\n",
       "      <td>38.947380</td>\n",
       "      <td>11.432</td>\n",
       "    </tr>\n",
       "    <tr>\n",
       "      <th>4</th>\n",
       "      <td>8554498</td>\n",
       "      <td>K00005.01</td>\n",
       "      <td>NaN</td>\n",
       "      <td>CANDIDATE</td>\n",
       "      <td>CANDIDATE</td>\n",
       "      <td>1.000</td>\n",
       "      <td>0</td>\n",
       "      <td>0</td>\n",
       "      <td>0</td>\n",
       "      <td>0</td>\n",
       "      <td>...</td>\n",
       "      <td>-65.0</td>\n",
       "      <td>4.012</td>\n",
       "      <td>0.030</td>\n",
       "      <td>-0.030</td>\n",
       "      <td>1.787</td>\n",
       "      <td>0.132</td>\n",
       "      <td>-0.076</td>\n",
       "      <td>289.73972</td>\n",
       "      <td>44.647419</td>\n",
       "      <td>11.665</td>\n",
       "    </tr>\n",
       "  </tbody>\n",
       "</table>\n",
       "<p>5 rows × 49 columns</p>\n",
       "</div>"
      ],
      "text/plain": [
       "      kepid kepoi_name    kepler_name koi_disposition koi_pdisposition  \\\n",
       "0  11446443  K00001.01     Kepler-1 b       CONFIRMED        CANDIDATE   \n",
       "1  10666592  K00002.01     Kepler-2 b       CONFIRMED        CANDIDATE   \n",
       "2  10748390  K00003.01     Kepler-3 b       CONFIRMED        CANDIDATE   \n",
       "3   3861595  K00004.01  Kepler-1658 b       CONFIRMED        CANDIDATE   \n",
       "4   8554498  K00005.01            NaN       CANDIDATE        CANDIDATE   \n",
       "\n",
       "   koi_score  koi_fpflag_nt  koi_fpflag_ss  koi_fpflag_co  koi_fpflag_ec  ...  \\\n",
       "0      0.811              0              0              0              0  ...   \n",
       "1      1.000              0              1              0              0  ...   \n",
       "2      0.913              0              0              0              0  ...   \n",
       "3      1.000              0              1              0              0  ...   \n",
       "4      1.000              0              0              0              0  ...   \n",
       "\n",
       "   koi_steff_err2  koi_slogg  koi_slogg_err1  koi_slogg_err2  koi_srad  \\\n",
       "0           -78.0      4.457           0.024          -0.024     0.964   \n",
       "1           -89.0      4.019           0.033          -0.027     1.952   \n",
       "2           -95.0      4.591           0.015          -0.036     0.763   \n",
       "3          -114.0      3.657           0.270          -0.090     2.992   \n",
       "4           -65.0      4.012           0.030          -0.030     1.787   \n",
       "\n",
       "   koi_srad_err1  koi_srad_err2         ra        dec  koi_kepmag  \n",
       "0          0.038         -0.038  286.80847  49.316399      11.338  \n",
       "1          0.099         -0.110  292.24728  47.969521      10.463  \n",
       "2          0.028         -0.028  297.70935  48.080853       9.174  \n",
       "3          0.416         -0.971  294.35654  38.947380      11.432  \n",
       "4          0.132         -0.076  289.73972  44.647419      11.665  \n",
       "\n",
       "[5 rows x 49 columns]"
      ]
     },
     "execution_count": 2,
     "metadata": {},
     "output_type": "execute_result"
    }
   ],
   "source": [
    "df = pd.read_csv(\"./dr25.tab\", sep=\"\\t\", header=53)\n",
    "df.head()"
   ]
  },
  {
   "cell_type": "markdown",
   "id": "868d42c2-dc9c-4366-984a-fa2f7a0e3d6a",
   "metadata": {},
   "source": [
    "## Planteo del problema"
   ]
  },
  {
   "cell_type": "markdown",
   "id": "28e8544e-9bcc-4a0d-8c80-87c4309e1797",
   "metadata": {},
   "source": [
    "En este trabajo vamos a plantear un problema de clasidicacion binaria: dados los atributos del KOI, buscamos predecir si se trata\n",
    "de un candidato `CONFIRMED` o un `FALSE POSITIVE`.  En este aspecto destacan dos columnas `koi_disposition` y `koi_pdisposition`. \n",
    "En la [documentación](https://exoplanetarchive.ipac.caltech.edu/applications/DocSet/index.html?doctree=/docs/docmenu.xml&startdoc=item_1_01) puede hallarse un detalle de cada columna.\n",
    "\n",
    "La columna `koi_pdisposition` se trata de la disposicion\n",
    "\n",
    "    \"The pipeline flag that designates the most probable physical explanation of the KOI.\"\n",
    "la fuente de esta clasificacion es automaticamente asignada por el Kepler pipeline, basado en alguna pruebas internas.\n",
    "\n",
    "Mientras que `koi_disposition` \n",
    "        \n",
    "    \"The category of this KOI from the Exoplanet Archive.\"\n",
    "es el veredicto final de *NASA Exoplanet Archive*, que incluye revisiones manuales y estudios posteriores.\n",
    "Representa la verdad autoritativa sobre el *label*. Esta categoria suele cambiar con el tiempo y los estudios."
   ]
  },
  {
   "cell_type": "markdown",
   "id": "ce6ace47-f84c-4ae3-858f-05af7db25b45",
   "metadata": {},
   "source": [
    "Por tal motivo, el valor que buscamos predecir es el de la *disposición final* del *KOI*: `koi_disposition`"
   ]
  },
  {
   "cell_type": "markdown",
   "id": "d8a965c5-8d6a-480a-8f1f-1cf187d950f9",
   "metadata": {},
   "source": [
    "## Analisis de datos etc"
   ]
  },
  {
   "cell_type": "markdown",
   "id": "49482665-6cbf-439e-b6cf-a5be65c5b3a3",
   "metadata": {},
   "source": [
    "Comenzamos por analizar la variable *target*, vemos que toma tres valores en este dataset:\n",
    "`FALSE POSITIVE`, `CONFIRMED` y `CANDIDATE`.\n",
    "No buscamos clasificar a `CANDIDATE` y, dada la naturaleza ambigua de este valor (se trata de objetos que aun no tienen veredicto final), es posible que sea necesario eliminar esas filas."
   ]
  },
  {
   "cell_type": "code",
   "execution_count": 64,
   "id": "be1fcf0b-0def-41cb-b4db-55c2fd323b4d",
   "metadata": {},
   "outputs": [
    {
     "data": {
      "text/plain": [
       "koi_pdisposition\n",
       "CANDIDATE         4034\n",
       "FALSE POSITIVE    4020\n",
       "Name: count, dtype: int64"
      ]
     },
     "execution_count": 64,
     "metadata": {},
     "output_type": "execute_result"
    }
   ],
   "source": [
    "df.koi_pdisposition.value_counts()"
   ]
  },
  {
   "cell_type": "markdown",
   "id": "09616b94-28e4-4d8c-8423-2244f91aef1f",
   "metadata": {},
   "source": [
    "Dado que existe un gran numero de `CANDIDATE`s seria bueno intentar inputar algunos casos con los labels a predecir,\n",
    "para intentar no dañar mucho el dataset.\n",
    "\n",
    "Existe una variable `koi_score` que expresa la confianza en la clasificacion en el pipeline:\n",
    "        \n",
    "    A value between 0 and 1 that indicates the confidence in the KOI disposition. \n",
    "    For CANDIDATEs, a higher value indicates more confidence in its disposition, \n",
    "    while for FALSE POSITIVEs, a higher value indicates less confidence in that disposition.\n",
    "\n",
    "Esto no es una regla rigida, por lo que simplemente clasificar todos los `CANDIDATE` con puntaje alto a `CONFIRMED` y los `FALSE POSITIVE` de puntaje alto como `FALSE POSITIVE` puede ser contra producente.\n",
    "\n",
    "Además podemos mirar como se relaciona la variable `koi_pdisposition` con el target"
   ]
  },
  {
   "cell_type": "code",
   "execution_count": 65,
   "id": "5ac28406-072c-4f6b-a4ff-fc8c8bf91892",
   "metadata": {},
   "outputs": [
    {
     "data": {
      "image/png": "[encoded data removed]",
      "text/plain": [
       "<Figure size 500x400 with 2 Axes>"
      ]
     },
     "metadata": {},
     "output_type": "display_data"
    },
    {
     "name": "stdout",
     "output_type": "stream",
     "text": [
      "koi_disposition   CANDIDATE  CONFIRMED  FALSE POSITIVE  Total\n",
      "koi_pdisposition                                             \n",
      "CANDIDATE              1360       2673               1   4034\n",
      "FALSE POSITIVE            0         55            3965   4020\n",
      "Total                  1360       2728            3966   8054\n"
     ]
    }
   ],
   "source": [
    "disposition_counts = pd.crosstab(\n",
    "    df['koi_pdisposition'], \n",
    "    df['koi_disposition'],\n",
    "    margins=True,\n",
    "    margins_name=\"Total\"\n",
    ")\n",
    "plt.figure(figsize=(5, 4))\n",
    "sns.heatmap(\n",
    "    pd.crosstab(df['koi_pdisposition'], df['koi_disposition']),\n",
    "    annot=True, fmt='d', cmap='Blues'\n",
    ")\n",
    "plt.title(\"Cambios en KOI Disposition\")\n",
    "plt.show()\n",
    "print(disposition_counts)"
   ]
  },
  {
   "cell_type": "code",
   "execution_count": 62,
   "id": "9bc6a97f-eca1-476a-bc9a-6b1e47f43811",
   "metadata": {},
   "outputs": [
    {
     "data": {
      "image/png": "[encoded data removed]",
      "text/plain": [
       "<Figure size 640x480 with 1 Axes>"
      ]
     },
     "metadata": {},
     "output_type": "display_data"
    },
    {
     "data": {
      "text/plain": [
       "<Axes: xlabel='koi_score', ylabel='Count'>"
      ]
     },
     "execution_count": 62,
     "metadata": {},
     "output_type": "execute_result"
    },
    {
     "data": {
      "image/png": "[encoded data removed]",
      "text/plain": [
       "<Figure size 640x480 with 1 Axes>"
      ]
     },
     "metadata": {},
     "output_type": "display_data"
    }
   ],
   "source": [
    "mask = (\n",
    "    (df['koi_disposition'] == 'CONFIRMED') &\n",
    "    (df['koi_pdisposition'] == 'FALSE POSITIVE') \n",
    ")\n",
    "sns.histplot(data=df.loc[mask], x='koi_score', bins=10)\n",
    "plt.show()\n",
    "sns.histplot(data=df[df['koi_pdisposition']=='FALSE POSITIVE'], x='koi_score')"
   ]
  },
  {
   "cell_type": "code",
   "execution_count": 68,
   "id": "c378bbc4-4763-4056-bf91-6a5e713b4595",
   "metadata": {},
   "outputs": [],
   "source": [
    "high_confidence_threshold = 0.99\n",
    "\n",
    "df_binary = df[df['koi_disposition'].isin(['CONFIRMED', 'FALSE POSITIVE'])].copy()\n",
    "df_binary['label'] = df_binary['koi_disposition'].map({'CONFIRMED': 1, 'FALSE POSITIVE': 0})\n",
    "\n",
    "candidates = df[df['koi_disposition'] == 'CANDIDATE'].copy()\n",
    "pseudo_confirmed = candidates[candidates['koi_score'] >= high_confidence_threshold].copy()\n",
    "pseudo_confirmed['label'] = 1\n",
    "\n",
    "df_augmented = pd.concat([df_binary, pseudo_confirmed], ignore_index=True)"
   ]
  },
  {
   "cell_type": "code",
   "execution_count": 70,
   "id": "6b5c7e68-1c16-4bd8-9e41-b2bf37b8980c",
   "metadata": {},
   "outputs": [
    {
     "data": {
      "text/plain": [
       "label\n",
       "0    3966\n",
       "1    3266\n",
       "Name: count, dtype: int64"
      ]
     },
     "execution_count": 70,
     "metadata": {},
     "output_type": "execute_result"
    }
   ],
   "source": [
    "df_augmented.label.value_counts()"
   ]
  }
 ],
 "metadata": {
  "kernelspec": {
   "display_name": "Python 3 (ipykernel)",
   "language": "python",
   "name": "python3"
  },
  "language_info": {
   "codemirror_mode": {
    "name": "ipython",
    "version": 3
   },
   "file_extension": ".py",
   "mimetype": "text/x-python",
   "name": "python",
   "nbconvert_exporter": "python",
   "pygments_lexer": "ipython3",
   "version": "3.10.12"
  }
 },
 "nbformat": 4,
 "nbformat_minor": 5
}
